{
 "cells": [
  {
   "cell_type": "code",
   "execution_count": 439,
   "metadata": {
    "collapsed": true
   },
   "outputs": [],
   "source": [
    "import h5py"
   ]
  },
  {
   "cell_type": "code",
   "execution_count": 504,
   "metadata": {
    "collapsed": true
   },
   "outputs": [],
   "source": [
    "import seaborn as sb"
   ]
  },
  {
   "cell_type": "code",
   "execution_count": 440,
   "metadata": {
    "collapsed": true
   },
   "outputs": [],
   "source": [
    "import matplotlib.pyplot as plt"
   ]
  },
  {
   "cell_type": "code",
   "execution_count": 441,
   "metadata": {
    "collapsed": true
   },
   "outputs": [],
   "source": [
    "import numpy as np"
   ]
  },
  {
   "cell_type": "code",
   "execution_count": 520,
   "metadata": {},
   "outputs": [
    {
     "data": {
      "text/plain": [
       "['list_classes', 'train_set_x', 'train_set_y']"
      ]
     },
     "execution_count": 520,
     "metadata": {},
     "output_type": "execute_result"
    }
   ],
   "source": [
    "data = h5py.File('train.h5')"
   ]
  },
  {
   "cell_type": "code",
   "execution_count": 534,
   "metadata": {},
   "outputs": [
    {
     "data": {
      "text/plain": [
       "(1, 50)"
      ]
     },
     "execution_count": 534,
     "metadata": {},
     "output_type": "execute_result"
    }
   ],
   "source": [
    "test = h5py.File('test.h5')\n",
    "x_test =test['test_set_x']\n",
    "x_test= np.array(x_test)\n",
    "test_x = x_test.reshape(x_test.shape[0],-1)\n",
    "test_x.shape\n",
    "test_y= test[\"test_set_y\"]\n",
    "test_y =np.array(test_y)\n",
    "test_y = test_y.reshape(1,50)\n",
    "test_y.shape"
   ]
  },
  {
   "cell_type": "code",
   "execution_count": 443,
   "metadata": {},
   "outputs": [],
   "source": [
    "import matplotlib.pyplot as plt"
   ]
  },
  {
   "cell_type": "code",
   "execution_count": 494,
   "metadata": {},
   "outputs": [
    {
     "data": {
      "text/plain": [
       "(209, 12288)"
      ]
     },
     "execution_count": 494,
     "metadata": {},
     "output_type": "execute_result"
    }
   ],
   "source": [
    "x  = data['train_set_x']\n",
    "x = np.array(x)\n",
    "train_x = x.reshape(x.shape[0],-1)\n",
    "train_x.shape"
   ]
  },
  {
   "cell_type": "code",
   "execution_count": 445,
   "metadata": {},
   "outputs": [
    {
     "data": {
      "text/plain": [
       "['list_classes', 'train_set_x', 'train_set_y']"
      ]
     },
     "execution_count": 445,
     "metadata": {},
     "output_type": "execute_result"
    }
   ],
   "source": [
    "list(data)"
   ]
  },
  {
   "cell_type": "code",
   "execution_count": 530,
   "metadata": {},
   "outputs": [
    {
     "data": {
      "text/plain": [
       "(1, 209)"
      ]
     },
     "execution_count": 530,
     "metadata": {},
     "output_type": "execute_result"
    }
   ],
   "source": [
    "y= data[\"train_set_y\"]\n",
    "y =np.array(y)\n",
    "y = y.reshape(1,209)\n",
    "y.shape"
   ]
  },
  {
   "cell_type": "code",
   "execution_count": 447,
   "metadata": {},
   "outputs": [
    {
     "data": {
      "text/plain": [
       "(12288, 209)"
      ]
     },
     "execution_count": 447,
     "metadata": {},
     "output_type": "execute_result"
    }
   ],
   "source": [
    "train_x=train_x.transpose()\n",
    "train_x.shape"
   ]
  },
  {
   "cell_type": "code",
   "execution_count": 448,
   "metadata": {
    "collapsed": true
   },
   "outputs": [],
   "source": [
    "train_x =train_x/255"
   ]
  },
  {
   "cell_type": "code",
   "execution_count": 449,
   "metadata": {
    "collapsed": true
   },
   "outputs": [],
   "source": [
    "n_x,n_h,n_y = 12288,7,1\n",
    "iterations = 10000"
   ]
  },
  {
   "cell_type": "code",
   "execution_count": 450,
   "metadata": {
    "collapsed": true
   },
   "outputs": [],
   "source": [
    "def initialize_parameters(n_x,n_h,n_y):\n",
    "    w1 = np.random.randn(n_h,n_x) *0.01\n",
    "    b1 = np.zeros((n_h,1))\n",
    "    w2 = np.random.randn(n_y,n_h) * 0.01\n",
    "    b2 = np.zeros((n_y,n_y))\n",
    "    return w1,b1,w2,b2"
   ]
  },
  {
   "cell_type": "code",
   "execution_count": 451,
   "metadata": {},
   "outputs": [],
   "source": [
    "w1,b1,w2,b2 = initialize_parameters(n_x,n_h,n_y)\n",
    "learning_rate = 0.075"
   ]
  },
  {
   "cell_type": "code",
   "execution_count": 452,
   "metadata": {
    "collapsed": true
   },
   "outputs": [],
   "source": [
    "def sigmoid(z):\n",
    "    s= 1/(1+np.exp(-z))\n",
    "    return s\n",
    "def relu(z):\n",
    "    s = (z>=0)\n",
    "    z = np.multiply(s,z)\n",
    "    return z"
   ]
  },
  {
   "cell_type": "code",
   "execution_count": 453,
   "metadata": {
    "collapsed": true
   },
   "outputs": [],
   "source": [
    "def forward(A_prev,w,b,activation):\n",
    "    Z = np.dot(w,A_prev) +b\n",
    "    if activation=='sigmoid':\n",
    "        a = sigmoid(Z)\n",
    "    if activation == 'relu':\n",
    "        a = relu(Z)\n",
    "    cache =(A_prev,w,b,Z)\n",
    "    return a,cache"
   ]
  },
  {
   "cell_type": "code",
   "execution_count": null,
   "metadata": {
    "collapsed": true
   },
   "outputs": [],
   "source": []
  },
  {
   "cell_type": "code",
   "execution_count": 454,
   "metadata": {
    "collapsed": true
   },
   "outputs": [],
   "source": [
    "def compute_cost(y,a):\n",
    "    m = y.size\n",
    "    cost = -(1/m) *(np.dot(np.log(a),y.T)+np.dot(np.log((1-a)),(1-y).T))\n",
    "    return cost"
   ]
  },
  {
   "cell_type": "code",
   "execution_count": null,
   "metadata": {
    "collapsed": true
   },
   "outputs": [],
   "source": []
  },
  {
   "cell_type": "code",
   "execution_count": 455,
   "metadata": {},
   "outputs": [],
   "source": [
    "def relu_backward(da,z):\n",
    "    z = (z>0)\n",
    "    return np.multiply(da,z)\n",
    "def sigmoid_backward(da,z):\n",
    "    dz = np.multiply(da,np.multiply(sigmoid(z),(1-sigmoid(z))))\n",
    "    return dz"
   ]
  },
  {
   "cell_type": "code",
   "execution_count": 456,
   "metadata": {
    "collapsed": true
   },
   "outputs": [],
   "source": [
    "def update_parameters(dw1,db1,dw2,db2,w1,b1,w2,b2):\n",
    "    w1 = w1- learning_rate * dw1\n",
    "    w2 = w2- learning_rate * dw2\n",
    "    b1 = b1- learning_rate * db1\n",
    "    b2 = b2- learning_rate * db2\n",
    "    return w1,w2,b1,b2"
   ]
  },
  {
   "cell_type": "code",
   "execution_count": 457,
   "metadata": {},
   "outputs": [
    {
     "name": "stdout",
     "output_type": "stream",
     "text": [
      "cost after0iterations is [[ 0.69414815]]\n",
      "cost after100iterations is [[ 0.54434651]]\n",
      "cost after200iterations is [[ 0.56872154]]\n",
      "cost after300iterations is [[ 0.53298063]]\n",
      "cost after400iterations is [[ 0.41478846]]\n",
      "cost after500iterations is [[ 0.52033659]]\n",
      "cost after600iterations is [[ 0.50434427]]\n",
      "cost after700iterations is [[ 0.51282781]]\n",
      "cost after800iterations is [[ 0.25624692]]\n",
      "cost after900iterations is [[ 0.50498294]]\n",
      "cost after1000iterations is [[ 0.4151507]]\n",
      "cost after1100iterations is [[ 0.29621246]]\n",
      "cost after1200iterations is [[ 0.67107674]]\n",
      "cost after1300iterations is [[ 0.23594448]]\n",
      "cost after1400iterations is [[ 0.14660698]]\n",
      "cost after1500iterations is [[ 0.12618702]]\n",
      "cost after1600iterations is [[ 0.11542123]]\n",
      "cost after1700iterations is [[ 0.1099509]]\n",
      "cost after1800iterations is [[ 0.11076017]]\n",
      "cost after1900iterations is [[ 0.10633889]]\n",
      "cost after2000iterations is [[ 0.10377942]]\n",
      "cost after2100iterations is [[ 0.10307529]]\n",
      "cost after2200iterations is [[ 0.07959502]]\n",
      "cost after2300iterations is [[ 0.05224728]]\n",
      "cost after2400iterations is [[ 0.04282304]]\n",
      "cost after2500iterations is [[ 0.03828148]]\n",
      "cost after2600iterations is [[ 0.03600372]]\n",
      "cost after2700iterations is [[ 0.03409529]]\n",
      "cost after2800iterations is [[ 0.03249849]]\n",
      "cost after2900iterations is [[ 0.03144538]]\n",
      "cost after3000iterations is [[ 0.03069516]]\n",
      "cost after3100iterations is [[ 0.02992133]]\n",
      "cost after3200iterations is [[ 0.02934438]]\n",
      "cost after3300iterations is [[ 0.02887457]]\n",
      "cost after3400iterations is [[ 0.02867017]]\n",
      "cost after3500iterations is [[ 0.02828544]]\n",
      "cost after3600iterations is [[ 0.02782903]]\n",
      "cost after3700iterations is [[ 0.02776133]]\n",
      "cost after3800iterations is [[ 0.02737865]]\n",
      "cost after3900iterations is [[ 0.02719359]]\n",
      "cost after4000iterations is [[ 0.02705733]]\n",
      "cost after4100iterations is [[ 0.02681137]]\n",
      "cost after4200iterations is [[ 0.02667381]]\n",
      "cost after4300iterations is [[ 0.02654733]]\n",
      "cost after4400iterations is [[ 0.02646614]]\n",
      "cost after4500iterations is [[ 0.02638796]]\n",
      "cost after4600iterations is [[ 0.02626555]]\n",
      "cost after4700iterations is [[ 0.0262513]]\n",
      "cost after4800iterations is [[ 0.02615283]]\n",
      "cost after4900iterations is [[ 0.02609503]]\n",
      "cost after5000iterations is [[ 0.02603483]]\n",
      "cost after5100iterations is [[ 0.02595996]]\n",
      "cost after5200iterations is [[ 0.02592048]]\n",
      "cost after5300iterations is [[ 0.02588124]]\n",
      "cost after5400iterations is [[ 0.02583762]]\n",
      "cost after5500iterations is [[ 0.02580054]]\n",
      "cost after5600iterations is [[ 0.02575334]]\n",
      "cost after5700iterations is [[ 0.02573444]]\n",
      "cost after5800iterations is [[ 0.0257037]]\n",
      "cost after5900iterations is [[ 0.02570168]]\n",
      "cost after6000iterations is [[ 0.02568825]]\n",
      "cost after6100iterations is [[ 0.02564615]]\n",
      "cost after6200iterations is [[ 0.02564623]]\n",
      "cost after6300iterations is [[ 0.02558669]]\n",
      "cost after6400iterations is [[ 0.02557426]]\n",
      "cost after6500iterations is [[ 0.02557555]]\n",
      "cost after6600iterations is [[ 0.02555638]]\n",
      "cost after6700iterations is [[ 0.02552732]]\n",
      "cost after6800iterations is [[ 0.02553757]]\n",
      "cost after6900iterations is [[ 0.02554657]]\n",
      "cost after7000iterations is [[ 0.02550175]]\n",
      "cost after7100iterations is [[ 0.02548595]]\n",
      "cost after7200iterations is [[ 0.02547179]]\n",
      "cost after7300iterations is [[ 0.02547465]]\n",
      "cost after7400iterations is [[ 0.02546009]]\n",
      "cost after7500iterations is [[ 0.0254637]]\n",
      "cost after7600iterations is [[ 0.0254715]]\n",
      "cost after7700iterations is [[ 0.02545596]]\n",
      "cost after7800iterations is [[ 0.02543844]]\n",
      "cost after7900iterations is [[ 0.02543083]]\n",
      "cost after8000iterations is [[ 0.02542227]]\n",
      "cost after8100iterations is [[ 0.02541227]]\n",
      "cost after8200iterations is [[ 0.02541495]]\n",
      "cost after8300iterations is [[ 0.02543169]]\n",
      "cost after8400iterations is [[ 0.0254036]]\n",
      "cost after8500iterations is [[ 0.02540932]]\n",
      "cost after8600iterations is [[ 0.02538908]]\n",
      "cost after8700iterations is [[ 0.02540238]]\n",
      "cost after8800iterations is [[ 0.02539209]]\n",
      "cost after8900iterations is [[ 0.02539104]]\n",
      "cost after9000iterations is [[ 0.02538501]]\n",
      "cost after9100iterations is [[ 0.02538518]]\n",
      "cost after9200iterations is [[ 0.0253696]]\n",
      "cost after9300iterations is [[ 0.02538735]]\n",
      "cost after9400iterations is [[ 0.02536824]]\n",
      "cost after9500iterations is [[ 0.02536533]]\n",
      "cost after9600iterations is [[ 0.02535895]]\n",
      "cost after9700iterations is [[ 0.02535602]]\n",
      "cost after9800iterations is [[ 0.02536427]]\n",
      "cost after9900iterations is [[ 0.02535799]]\n"
     ]
    },
    {
     "data": {
      "image/png": "[encoded data removed]",
      "text/plain": [
       "<matplotlib.figure.Figure at 0x237eba7c390>"
      ]
     },
     "metadata": {},
     "output_type": "display_data"
    }
   ],
   "source": [
    "for i in range (iterations):\n",
    "    m=209\n",
    "    a1, cache1 = forward(train_x,w1,b1,'relu')\n",
    "    a2, cache2 = forward(a1,w2,b2,'sigmoid')\n",
    "    a1,w2,b2,z2 = cache2\n",
    "    a0,w1,b1,z1 = cache1\n",
    "    cost = compute_cost(y,a2)\n",
    "    da2 = -(np.divide(y,a2)-np.divide(1-y,1-a2))\n",
    "    dz2 = sigmoid_backward(da2,z2)\n",
    "    dw2 = (1/m) * np.dot(dz2,a1.T)\n",
    "    db2 = (1/m) * np.sum(dz2,axis =1 ,keepdims =True)\n",
    "    da1 = np.dot(w2.T,dz2)\n",
    "    dz1 = relu_backward(da1,z1)\n",
    "    dw1 = (1/m) * np.dot(dz1,a0.T)\n",
    "    db1 = (1/m) * np.sum(dz1,axis =1 ,keepdims =True)\n",
    "    w1,w2,b1,b2 = update_parameters(dw1,db1,dw2,db2,w1,b1,w2,b2)\n",
    "    if(i%100==0):\n",
    "        print('cost after'+str(i)+'iterations is '+str(cost))\n",
    "        plt.scatter(i,cost)\n",
    "plt.show()"
   ]
  },
  {
   "cell_type": "code",
   "execution_count": 497,
   "metadata": {},
   "outputs": [],
   "source": [
    "def predict(x):\n",
    "    z1 = np.dot(w1,x)+b1\n",
    "    a1 = relu(z1)\n",
    "    z2 = np.dot(w2,a1)+b2\n",
    "    a2 = sigmoid(z2)\n",
    "    a2 = (a2>0.5)\n",
    "    a2 =a2 *1\n",
    "    return a2"
   ]
  },
  {
   "cell_type": "code",
   "execution_count": 536,
   "metadata": {
    "collapsed": true
   },
   "outputs": [],
   "source": [
    "def accuracy(x,y):\n",
    "    y_train_predict = predict(x.T)\n",
    "    score = (y_train_predict==y)\n",
    "    size=score.size\n",
    "    return (np.sum(score)/size)*100"
   ]
  },
  {
   "cell_type": "code",
   "execution_count": 538,
   "metadata": {},
   "outputs": [
    {
     "name": "stdout",
     "output_type": "stream",
     "text": [
      "accuracy on train set 99.5215311005%\n",
      "accuracy on test set 42.0%\n"
     ]
    },
    {
     "name": "stderr",
     "output_type": "stream",
     "text": [
      "C:\\Users\\Abhishek\\Anaconda3\\lib\\site-packages\\ipykernel_launcher.py:2: RuntimeWarning: overflow encountered in exp\n",
      "  \n"
     ]
    }
   ],
   "source": [
    "print(\"accuracy on train set \" +str(accuracy(train_x,y))+'%')\n",
    "print(\"accuracy on test set \" +str(accuracy(test_x,test_y))+'%')\n"
   ]
  }
 ],
 "metadata": {
  "kernelspec": {
   "display_name": "Python 3",
   "language": "python",
   "name": "python3"
  },
  "language_info": {
   "codemirror_mode": {
    "name": "ipython",
    "version": 3
   },
   "file_extension": ".py",
   "mimetype": "text/x-python",
   "name": "python",
   "nbconvert_exporter": "python",
   "pygments_lexer": "ipython3",
   "version": "3.6.2"
  }
 },
 "nbformat": 4,
 "nbformat_minor": 2
}
