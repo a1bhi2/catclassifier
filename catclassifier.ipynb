{
 "cells": [
  {
   "cell_type": "code",
   "execution_count": 97,
   "metadata": {
    "collapsed": true
   },
   "outputs": [],
   "source": [
    "import h5py"
   ]
  },
  {
   "cell_type": "code",
   "execution_count": 98,
   "metadata": {
    "collapsed": true
   },
   "outputs": [],
   "source": [
    "import seaborn as sb"
   ]
  },
  {
   "cell_type": "code",
   "execution_count": 99,
   "metadata": {
    "collapsed": true
   },
   "outputs": [],
   "source": [
    "import matplotlib.pyplot as plt"
   ]
  },
  {
   "cell_type": "code",
   "execution_count": 100,
   "metadata": {
    "collapsed": true
   },
   "outputs": [],
   "source": [
    "import numpy as np"
   ]
  },
  {
   "cell_type": "code",
   "execution_count": 101,
   "metadata": {
    "collapsed": true
   },
   "outputs": [],
   "source": [
    "data = h5py.File('train.h5') "
   ]
  },
  {
   "cell_type": "code",
   "execution_count": 102,
   "metadata": {},
   "outputs": [
    {
     "data": {
      "text/plain": [
       "(1, 50)"
      ]
     },
     "execution_count": 102,
     "metadata": {},
     "output_type": "execute_result"
    }
   ],
   "source": [
    "test = h5py.File('test.h5')\n",
    "x_test =test['test_set_x']\n",
    "x_test= np.array(x_test)\n",
    "test_x = x_test.reshape(x_test.shape[0],-1)\n",
    "test_x=test_x.T\n",
    "test_y= test[\"test_set_y\"]\n",
    "test_y =np.array(test_y)\n",
    "test_y = test_y.reshape(1,50)\n",
    "test_y.shape"
   ]
  },
  {
   "cell_type": "code",
   "execution_count": 103,
   "metadata": {
    "collapsed": true
   },
   "outputs": [],
   "source": [
    "import matplotlib.pyplot as plt"
   ]
  },
  {
   "cell_type": "code",
   "execution_count": 104,
   "metadata": {},
   "outputs": [
    {
     "data": {
      "text/plain": [
       "(209, 12288)"
      ]
     },
     "execution_count": 104,
     "metadata": {},
     "output_type": "execute_result"
    }
   ],
   "source": [
    "x  = data['train_set_x']\n",
    "x = np.array(x)\n",
    "train_x = x.reshape(x.shape[0],-1)\n",
    "train_x.shape"
   ]
  },
  {
   "cell_type": "code",
   "execution_count": 105,
   "metadata": {},
   "outputs": [
    {
     "data": {
      "text/plain": [
       "['list_classes', 'train_set_x', 'train_set_y']"
      ]
     },
     "execution_count": 105,
     "metadata": {},
     "output_type": "execute_result"
    }
   ],
   "source": [
    "list(data)"
   ]
  },
  {
   "cell_type": "code",
   "execution_count": 106,
   "metadata": {},
   "outputs": [
    {
     "data": {
      "text/plain": [
       "(1, 209)"
      ]
     },
     "execution_count": 106,
     "metadata": {},
     "output_type": "execute_result"
    }
   ],
   "source": [
    "y= data[\"train_set_y\"]\n",
    "y =np.array(y)\n",
    "y = y.reshape(1,209)\n",
    "y.shape"
   ]
  },
  {
   "cell_type": "code",
   "execution_count": 107,
   "metadata": {},
   "outputs": [
    {
     "data": {
      "text/plain": [
       "(12288, 209)"
      ]
     },
     "execution_count": 107,
     "metadata": {},
     "output_type": "execute_result"
    }
   ],
   "source": [
    "train_x=train_x.transpose()\n",
    "train_x.shape"
   ]
  },
  {
   "cell_type": "code",
   "execution_count": 108,
   "metadata": {
    "collapsed": true
   },
   "outputs": [],
   "source": [
    "train_x =train_x/255"
   ]
  },
  {
   "cell_type": "code",
   "execution_count": 109,
   "metadata": {
    "collapsed": true
   },
   "outputs": [],
   "source": [
    "n_x,n_h,n_y = 12288,100,1\n",
    "iterations = 2100"
   ]
  },
  {
   "cell_type": "code",
   "execution_count": 110,
   "metadata": {
    "collapsed": true
   },
   "outputs": [],
   "source": [
    "def initialize_parameters(n_x,n_h,n_y):\n",
    "    w1 = np.random.randn(n_h,n_x) *0.01\n",
    "    b1 = np.zeros((n_h,1))\n",
    "    w2 = np.random.randn(n_y,n_h) * 0.01\n",
    "    b2 = np.zeros((n_y,n_y))\n",
    "    return w1,b1,w2,b2"
   ]
  },
  {
   "cell_type": "code",
   "execution_count": 111,
   "metadata": {
    "collapsed": true
   },
   "outputs": [],
   "source": [
    "w1,b1,w2,b2 = initialize_parameters(n_x,n_h,n_y)\n",
    "learning_rate = 0.075"
   ]
  },
  {
   "cell_type": "code",
   "execution_count": 112,
   "metadata": {
    "collapsed": true
   },
   "outputs": [],
   "source": [
    "def sigmoid(z):\n",
    "    s= 1/(1+np.exp(-z))\n",
    "    return s\n",
    "def relu(z):\n",
    "    s = (z>=0)\n",
    "    z = np.multiply(s,z)\n",
    "    return z"
   ]
  },
  {
   "cell_type": "code",
   "execution_count": 113,
   "metadata": {
    "collapsed": true
   },
   "outputs": [],
   "source": [
    "def forward(A_prev,w,b,activation):\n",
    "    Z = np.dot(w,A_prev) +b\n",
    "    if activation=='sigmoid':\n",
    "        a = sigmoid(Z)\n",
    "    if activation == 'relu':\n",
    "        a = relu(Z)\n",
    "    cache =(A_prev,w,b,Z)\n",
    "    return a,cache"
   ]
  },
  {
   "cell_type": "code",
   "execution_count": null,
   "metadata": {
    "collapsed": true
   },
   "outputs": [],
   "source": []
  },
  {
   "cell_type": "code",
   "execution_count": 114,
   "metadata": {
    "collapsed": true
   },
   "outputs": [],
   "source": [
    "def compute_cost(y,a):\n",
    "    m = y.size\n",
    "    cost = -(1/m) *(np.dot(np.log(a),y.T)+np.dot(np.log((1-a)),(1-y).T))\n",
    "    return cost"
   ]
  },
  {
   "cell_type": "code",
   "execution_count": null,
   "metadata": {
    "collapsed": true
   },
   "outputs": [],
   "source": []
  },
  {
   "cell_type": "code",
   "execution_count": 115,
   "metadata": {
    "collapsed": true
   },
   "outputs": [],
   "source": [
    "def relu_backward(da,z):\n",
    "    z = (z>0)\n",
    "    return np.multiply(da,z)\n",
    "def sigmoid_backward(da,z):\n",
    "    dz = np.multiply(da,np.multiply(sigmoid(z),(1-sigmoid(z))))\n",
    "    return dz"
   ]
  },
  {
   "cell_type": "code",
   "execution_count": null,
   "metadata": {
    "collapsed": true
   },
   "outputs": [],
   "source": [
    "def update_parameters(dw1,db1,dw2,db2,w1,b1,w2,b2):\n",
    "    w1 = w1- learning_rate * dw1\n",
    "    w2 = w2- learning_rate * dw2\n",
    "    b1 = b1- learning_rate * db1\n",
    "    b2 = b2- learning_rate * db2\n",
    "    return w1,w2,b1,b2"
   ]
  },
  {
   "cell_type": "code",
   "execution_count": null,
   "metadata": {},
   "outputs": [
    {
     "name": "stdout",
     "output_type": "stream",
     "text": [
      "cost after0iterations is [[ 0.68681198]]\n",
      "cost after100iterations is [[ 0.5361157]]\n",
      "cost after200iterations is [[ 0.45198486]]\n",
      "cost after300iterations is [[ 0.45034762]]\n",
      "cost after400iterations is [[ 0.37682367]]\n",
      "cost after500iterations is [[ 0.30167115]]\n",
      "cost after600iterations is [[ 0.46208565]]\n",
      "cost after700iterations is [[ 0.30199687]]\n",
      "cost after800iterations is [[ 0.32138272]]\n",
      "cost after900iterations is [[ 0.10955067]]\n",
      "cost after1000iterations is [[ 0.0344475]]\n",
      "cost after1100iterations is [[ 0.01589917]]\n",
      "cost after1200iterations is [[ 0.00951717]]\n"
     ]
    }
   ],
   "source": [
    "for i in range (iterations):\n",
    "    m=209\n",
    "    a1, cache1 = forward(train_x,w1,b1,'relu')\n",
    "    a2, cache2 = forward(a1,w2,b2,'sigmoid')\n",
    "    a1,w2,b2,z2 = cache2\n",
    "    a0,w1,b1,z1 = cache1\n",
    "    cost = compute_cost(y,a2)\n",
    "    da2 = -(np.divide(y,a2)-np.divide(1-y,1-a2))\n",
    "    dz2 = sigmoid_backward(da2,z2)\n",
    "    dw2 = (1/m) * np.dot(dz2,a1.T)\n",
    "    db2 = (1/m) * np.sum(dz2,axis =1 ,keepdims =True)\n",
    "    da1 = np.dot(w2.T,dz2)\n",
    "    dz1 = relu_backward(da1,z1)\n",
    "    dw1 = (1/m) * np.dot(dz1,a0.T)\n",
    "    db1 = (1/m) * np.sum(dz1,axis =1 ,keepdims =True)\n",
    "    w1,w2,b1,b2 = update_parameters(dw1,db1,dw2,db2,w1,b1,w2,b2)\n",
    "    if(i%100==0):\n",
    "        print('cost after'+str(i)+'iterations is '+str(cost))\n",
    "        plt.scatter(i,cost)\n",
    "plt.show()"
   ]
  },
  {
   "cell_type": "code",
   "execution_count": null,
   "metadata": {
    "collapsed": true
   },
   "outputs": [],
   "source": [
    "def predict(x):\n",
    "    z1 = np.dot(w1,x)+b1\n",
    "    a1 = relu(z1)\n",
    "    z2 = np.dot(w2,a1)+b2\n",
    "    a2 = sigmoid(z2)\n",
    "    a2 = (a2>0.5)\n",
    "    a2 =a2 *1\n",
    "    return a2"
   ]
  },
  {
   "cell_type": "code",
   "execution_count": null,
   "metadata": {
    "collapsed": true
   },
   "outputs": [],
   "source": [
    "def accuracy(x,y):\n",
    "    y_train_predict = predict(x)\n",
    "    score = (y_train_predict==y)\n",
    "    size=score.size\n",
    "    return (np.sum(score)/size)*100"
   ]
  },
  {
   "cell_type": "code",
   "execution_count": null,
   "metadata": {},
   "outputs": [],
   "source": [
    "print(\"accuracy on train set \" +str(accuracy(train_x,y))+'%')\n",
    "print(\"accuracy on test set \" +str(accuracy(test_x,test_y))+'%')\n"
   ]
  }
 ],
 "metadata": {
  "kernelspec": {
   "display_name": "Python 3",
   "language": "python",
   "name": "python3"
  },
  "language_info": {
   "codemirror_mode": {
    "name": "ipython",
    "version": 3
   },
   "file_extension": ".py",
   "mimetype": "text/x-python",
   "name": "python",
   "nbconvert_exporter": "python",
   "pygments_lexer": "ipython3",
   "version": "3.6.2"
  }
 },
 "nbformat": 4,
 "nbformat_minor": 2
}
